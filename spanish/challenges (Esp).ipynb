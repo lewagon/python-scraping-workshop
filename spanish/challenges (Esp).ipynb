{
 "cells": [
  {
   "cell_type": "markdown",
   "metadata": {},
   "source": [
    "# Python Web Scraping — ¡Pruébalo tú mismo!"
   ]
  },
  {
   "cell_type": "markdown",
   "metadata": {},
   "source": [
    "Empecemos importando las librerías necesarias y analizando la página principal de [Books To Scrape](http://books.toscrape.com/index.html).\n",
    "\n",
    "Cada párrafo de este documento es una *celda*, que puede contener otra descripción de texto o un fragmento de código Python ejecutable. \n",
    "\n",
    "Para ejecutar la celda, selecciónala y haz clic en \"Run\" en la barra de herramientas, o simplemente presiona `Shift-Enter`. Hacer doble clic en la celda te permite editar tu contenido.\n",
    "\n",
    "**Tip de profesionales** 🤓: ¡Ejecuta tus celdas regularmente para detectar posibles errores temprano! "
   ]
  },
  {
   "cell_type": "code",
   "execution_count": 1,
   "metadata": {},
   "outputs": [],
   "source": [
    "import requests\n",
    "from bs4 import BeautifulSoup\n",
    "\n",
    "url = \"http://books.toscrape.com/index.html\"\n",
    "response = requests.get(url)\n",
    "html = response.content\n",
    "scraped = BeautifulSoup(html, 'html.parser')"
   ]
  },
  {
   "cell_type": "markdown",
   "metadata": {},
   "source": [
    "Después de **ejecutar** la celda de acá arriba, podrás usar la variable `scraped` para buscar elementos en la página."
   ]
  },
  {
   "cell_type": "code",
   "execution_count": null,
   "metadata": {
    "scrolled": false
   },
   "outputs": [],
   "source": [
    "# Ejecuta esta celda para ver cómo se hace:\n",
    "\n",
    "scraped.h1"
   ]
  },
  {
   "cell_type": "markdown",
   "metadata": {},
   "source": [
    "😲 ¡Si te sientes perdido, puedes refrescar tus conocimientos en la plataforma de aprendizaje dentro de la sección \"Aprendizajes\" y en las diapositivas de la clase!"
   ]
  },
  {
   "cell_type": "markdown",
   "metadata": {},
   "source": [
    "### Desafío 1: Imprime el título de la página"
   ]
  },
  {
   "cell_type": "markdown",
   "metadata": {},
   "source": [
    "Para imprimir resultados en Python, puedes usar la función `print()`. Puede tomar un valor literal como argumento (`print(\"hello\")`, `print(2)`), o una variable — ¡en ese caso, la función imprimirá el valor al que se refiere la variable! \n",
    "\n",
    "```python\n",
    "name = \"Bob\"\n",
    "print(name) # => Bob\n",
    "```\n",
    "\n",
    "¡Recuerda que necesitas imprimir solo el _texto_ dentro de la etiqueta `<title>`, no el elemento completo!"
   ]
  },
  {
   "cell_type": "code",
   "execution_count": 3,
   "metadata": {},
   "outputs": [],
   "source": [
    "# escribe tu código aquí\n",
    "\n"
   ]
  },
  {
   "cell_type": "markdown",
   "metadata": {},
   "source": [
    "<details>\n",
    "<summary>\n",
    "    <strong>Ver la respuesta 🤫</strong>\n",
    "</summary>\n",
    "<pre>\n",
    "title_text = scraped.title.text.strip()\n",
    "print(title_text)\n",
    "</pre>    \n",
    "</details>"
   ]
  },
  {
   "cell_type": "markdown",
   "metadata": {},
   "source": [
    "### Desafío 2: Imprime el título *completo* del primer libro en una página"
   ]
  },
  {
   "cell_type": "markdown",
   "metadata": {},
   "source": [
    "Recuerda cómo ubicar un solo elemento con BeautifulSoup. Si te pierdes, revisa las diapositivas en la plataforma Learn, o visita la sección \"Aprendizajes\" para tener un resumen rápido."
   ]
  },
  {
   "cell_type": "code",
   "execution_count": null,
   "metadata": {},
   "outputs": [],
   "source": [
    "# escribe tu código aquí\n",
    "\n"
   ]
  },
  {
   "cell_type": "markdown",
   "metadata": {},
   "source": [
    "<details>\n",
    "<summary>\n",
    "    <strong>Ver respuesta 🤫</strong>\n",
    "</summary>\n",
    "<pre>\n",
    "title = scraped.article.h3.a[\"title\"]\n",
    "print(title)\n",
    "</pre>    \n",
    "</details>"
   ]
  },
  {
   "cell_type": "markdown",
   "metadata": {},
   "source": [
    "### Desafío 3: Imprime *todos* los títulos completos de la página"
   ]
  },
  {
   "cell_type": "markdown",
   "metadata": {},
   "source": [
    "Usa los métodos Beautiful Soup que devuelven una _colección_ de elementos. Recuerda cómo hacer un **bucle** sobre ellos (`for.. in..` construct)"
   ]
  },
  {
   "cell_type": "code",
   "execution_count": null,
   "metadata": {},
   "outputs": [],
   "source": [
    "# escribe tu código aquí\n",
    "\n"
   ]
  },
  {
   "cell_type": "markdown",
   "metadata": {},
   "source": [
    "<details>\n",
    "<summary>\n",
    "    <strong>Ver respuesta 🤫</strong>\n",
    "</summary>\n",
    "<pre>\n",
    "links = scraped.find_all(\"a\", title=True)\n",
    "for link in links:\n",
    "    print(link[\"title\"])\n",
    "</pre>    \n",
    "</details>"
   ]
  },
  {
   "cell_type": "markdown",
   "metadata": {},
   "source": [
    "### Desafío 4: Imprime todos los *precios* de la página"
   ]
  },
  {
   "cell_type": "markdown",
   "metadata": {},
   "source": [
    "A continuaciòn te mostramos cómo deshacerte de un símbolo de moneda y convertir el texto a un valor numérico (dado que el valor del texto inicial está en una variable llamada `price`):\n",
    "\n",
    "`price = float(price.text.lstrip(\"£\"))`\n",
    "\n",
    "Puedes usar un **selector de clase CSS** para esta tarea"
   ]
  },
  {
   "cell_type": "code",
   "execution_count": null,
   "metadata": {},
   "outputs": [],
   "source": [
    "# escribe tu código aquí\n",
    "\n"
   ]
  },
  {
   "cell_type": "markdown",
   "metadata": {},
   "source": [
    "<details>\n",
    "<summary>\n",
    "    <strong>Ver respuesta  🤫</strong>\n",
    "</summary>\n",
    "<pre>\n",
    "prices = scraped.select(\".price_color\")\n",
    "for price in prices:\n",
    "    price = float(price.text.lstrip(\"£\"))\n",
    "    print(price)\n",
    "</pre>    \n",
    "</details>"
   ]
  },
  {
   "cell_type": "markdown",
   "metadata": {},
   "source": [
    "### Desafío 5: Obtén el precio correspondiente para cada título"
   ]
  },
  {
   "cell_type": "markdown",
   "metadata": {},
   "source": [
    "Así es como debería verse la estructura de datos resultante (una lista de Diccionarios):\n",
    "\n",
    "```\n",
    "[{'Sharp Objects': 'WICKED above her hipbone, GIRL across her heart...'}, {'Sapiens: A Brief History of Humankind': 'From a renowned historian comes a groundbreaking narrative of humanity’s ...}]\n",
    "```\n",
    "\n",
    "Ten en cuenta que las descripciones reales serán mucho más largas."
   ]
  },
  {
   "cell_type": "markdown",
   "metadata": {},
   "source": [
    "Recordatorio sobre cómo puedes agregar un diccionario a una lista:\n",
    "\n",
    "```python\n",
    "title_prices = []\n",
    "\n",
    "# Iterate over all articles \n",
    "    # Get article's title as `title` \n",
    "    # Get article's price as `price`\n",
    "    title_prices.append({title: price})\n",
    "\n",
    "```"
   ]
  },
  {
   "cell_type": "code",
   "execution_count": null,
   "metadata": {},
   "outputs": [],
   "source": [
    "title_prices = []\n",
    "\n",
    "# escribe tu código aquí\n",
    "\n",
    "    \n",
    "print(title_prices)"
   ]
  },
  {
   "cell_type": "markdown",
   "metadata": {},
   "source": [
    "<details>\n",
    "<summary>\n",
    "    <strong>Ver respuesta 🤫</strong>\n",
    "</summary>\n",
    "<pre>\n",
    "title_prices = []\n",
    "\n",
    "articles = scraped.select(\".product_pod\")\n",
    "\n",
    "for article in articles:\n",
    "    title = article.h3.a[\"title\"]\n",
    "    price = article.find(\"p\", class_=\"price_color\")\n",
    "    price_float = float(price.text.lstrip(\"£\"))\n",
    "    title_prices.append({title: price_float}) # Create a Dictionary and append to Array\n",
    "    \n",
    "print(title_prices)\n",
    "</pre>    \n",
    "</details>"
   ]
  },
  {
   "cell_type": "markdown",
   "metadata": {},
   "source": [
    "## Yendo más lejos"
   ]
  },
  {
   "cell_type": "markdown",
   "metadata": {},
   "source": [
    "Ahora puedes hacer clic en el ícono \"Save to browser storage\" cerca de \"Download\" en la parte superior de este notebook. La próxima vez que te conectes a MyBinder, puedes restaurar tu trabajo haciendo clic en \"Restore from browser storage\". \n",
    "\n",
    "¡Tómate todo el tiempo que necesites para crear un scraper para cualquier página web que quieras! Ten en cuenta que la información que estás tratando de scrapear debe ser de acceso público y no protegido por nombre de usuario/contraseña."
   ]
  },
  {
   "cell_type": "code",
   "execution_count": 41,
   "metadata": {},
   "outputs": [],
   "source": [
    "# Escribe tu código para un scraper completo cuando te apetezca :)"
   ]
  }
 ],
 "metadata": {
  "kernelspec": {
   "display_name": "Python 3",
   "language": "python",
   "name": "python3"
  },
  "language_info": {
   "codemirror_mode": {
    "name": "ipython",
    "version": 3
   },
   "file_extension": ".py",
   "mimetype": "text/x-python",
   "name": "python",
   "nbconvert_exporter": "python",
   "pygments_lexer": "ipython3",
   "version": "3.7.3"
  }
 },
 "nbformat": 4,
 "nbformat_minor": 2
}
